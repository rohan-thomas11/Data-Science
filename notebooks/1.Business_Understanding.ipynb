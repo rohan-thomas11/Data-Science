{
 "cells": [
  {
   "cell_type": "code",
   "execution_count": 1,
   "metadata": {},
   "outputs": [
    {
     "name": "stdout",
     "output_type": "stream",
     "text": [
      " Volume in drive C is OS\n",
      " Volume Serial Number is F42D-8C8A\n",
      "\n",
      " Directory of c:\\Users\\rohan\\OneDrive\\Desktop\\EDS\\covid19_analysis\\notebooks\n",
      "\n",
      "27/06/2022  18:59    <DIR>          .\n",
      "27/06/2022  18:51    <DIR>          ..\n",
      "27/06/2022  18:51                 0 .gitkeep\n",
      "27/06/2022  18:59                 0 1.Business_Understanding.ipynb\n",
      "               2 File(s)              0 bytes\n",
      "               2 Dir(s)  797.293.596.672 bytes free\n"
     ]
    }
   ],
   "source": [
    "!dir"
   ]
  },
  {
   "cell_type": "markdown",
   "metadata": {},
   "source": [
    "![CRISP_DM.png](../reports/figures/CRISP_DM.png)"
   ]
  },
  {
   "cell_type": "markdown",
   "metadata": {},
   "source": [
    "# Business Understanding"
   ]
  },
  {
   "cell_type": "markdown",
   "metadata": {},
   "source": [
    "I would like to track Corona VIRUS spread across countries along with personal local information.\n",
    "\n",
    "The general information is not so relevant in my opinion, and I would like to have a deeper understanding of the local development of the spread.\n"
   ]
  },
  {
   "cell_type": "markdown",
   "metadata": {},
   "source": []
  },
  {
   "cell_type": "code",
   "execution_count": null,
   "metadata": {},
   "outputs": [],
   "source": []
  }
 ],
 "metadata": {
  "kernelspec": {
   "display_name": "Python 3.10.5 ('dsvenv': venv)",
   "language": "python",
   "name": "python3"
  },
  "language_info": {
   "codemirror_mode": {
    "name": "ipython",
    "version": 3
   },
   "file_extension": ".py",
   "mimetype": "text/x-python",
   "name": "python",
   "nbconvert_exporter": "python",
   "pygments_lexer": "ipython3",
   "version": "3.10.5"
  },
  "orig_nbformat": 4,
  "vscode": {
   "interpreter": {
    "hash": "c700f411ef1946b5b951dcc0c11c198e567963616c8ea1722710f03dfdbd4b40"
   }
  }
 },
 "nbformat": 4,
 "nbformat_minor": 2
}
