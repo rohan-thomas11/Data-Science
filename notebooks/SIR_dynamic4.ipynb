{
 "cells": [
  {
   "cell_type": "markdown",
   "id": "0022fb4f",
   "metadata": {},
   "source": [
    "# SIR Dynamic\n",
    "# Data-Import"
   ]
  },
  {
   "cell_type": "code",
   "execution_count": 1,
   "id": "3a01c257",
   "metadata": {},
   "outputs": [],
   "source": [
    "import pandas as pd\n",
    "import numpy as np\n",
    "from datetime import datetime\n",
    "pd.set_option('display.max_rows',500)\n",
    "\n",
    "%matplotlib inline\n",
    "import matplotlib as mpl\n",
    "import matplotlib.pyplot as plt\n",
    "import seaborn as sns\n",
    "\n",
    "from scipy import optimize\n",
    "from scipy import integrate\n",
    "import plotly\n",
    "\n",
    "import plotly.express as px\n",
    "import plotly.graph_objects as go\n",
    "\n",
    "sns.set(style=\"darkgrid\")\n",
    "\n",
    "mpl.rcParams['figure.figsize'] = (16, 9)\n",
    "pd.set_option('display.max_rows', 500)"
   ]
  },
  {
   "cell_type": "code",
   "execution_count": 2,
   "id": "3bb9a1be",
   "metadata": {},
   "outputs": [],
   "source": [
    "data_path='../data/raw/COVID-19/csse_covid_19_data/csse_covid_19_time_series/time_series_covid19_confirmed_global.csv'\n",
    "pd_raw=pd.read_csv(data_path)\n",
    "\n",
    "time_idx=pd_raw.columns[4:]\n",
    "df_new=pd.DataFrame({'date':time_idx})\n",
    "\n",
    "country=['Germany','India','US']\n",
    "\n",
    "for each in country:\n",
    "    df_new[each]=np.array(pd_raw[pd_raw['Country/Region']==each].iloc[:,4:].sum(axis=0))\n",
    "\n",
    "df_new['date']=df_new.date.astype('datetime64[ns]')\n",
    "\n",
    "df_new.to_csv('../data/processed/small_flat_table.csv',sep=';',index=False)"
   ]
  },
  {
   "cell_type": "code",
   "execution_count": 3,
   "id": "210f0e6c",
   "metadata": {},
   "outputs": [
    {
     "data": {
      "text/html": [
       "<div>\n",
       "<style scoped>\n",
       "    .dataframe tbody tr th:only-of-type {\n",
       "        vertical-align: middle;\n",
       "    }\n",
       "\n",
       "    .dataframe tbody tr th {\n",
       "        vertical-align: top;\n",
       "    }\n",
       "\n",
       "    .dataframe thead th {\n",
       "        text-align: right;\n",
       "    }\n",
       "</style>\n",
       "<table border=\"1\" class=\"dataframe\">\n",
       "  <thead>\n",
       "    <tr style=\"text-align: right;\">\n",
       "      <th></th>\n",
       "      <th>date</th>\n",
       "      <th>Germany</th>\n",
       "      <th>India</th>\n",
       "      <th>US</th>\n",
       "    </tr>\n",
       "  </thead>\n",
       "  <tbody>\n",
       "    <tr>\n",
       "      <th>0</th>\n",
       "      <td>2020-01-22</td>\n",
       "      <td>0</td>\n",
       "      <td>0</td>\n",
       "      <td>1</td>\n",
       "    </tr>\n",
       "    <tr>\n",
       "      <th>1</th>\n",
       "      <td>2020-01-23</td>\n",
       "      <td>0</td>\n",
       "      <td>0</td>\n",
       "      <td>1</td>\n",
       "    </tr>\n",
       "    <tr>\n",
       "      <th>2</th>\n",
       "      <td>2020-01-24</td>\n",
       "      <td>0</td>\n",
       "      <td>0</td>\n",
       "      <td>2</td>\n",
       "    </tr>\n",
       "    <tr>\n",
       "      <th>3</th>\n",
       "      <td>2020-01-25</td>\n",
       "      <td>0</td>\n",
       "      <td>0</td>\n",
       "      <td>2</td>\n",
       "    </tr>\n",
       "    <tr>\n",
       "      <th>4</th>\n",
       "      <td>2020-01-26</td>\n",
       "      <td>0</td>\n",
       "      <td>0</td>\n",
       "      <td>5</td>\n",
       "    </tr>\n",
       "    <tr>\n",
       "      <th>...</th>\n",
       "      <td>...</td>\n",
       "      <td>...</td>\n",
       "      <td>...</td>\n",
       "      <td>...</td>\n",
       "    </tr>\n",
       "    <tr>\n",
       "      <th>882</th>\n",
       "      <td>2022-06-22</td>\n",
       "      <td>27573585</td>\n",
       "      <td>43344958</td>\n",
       "      <td>86636306</td>\n",
       "    </tr>\n",
       "    <tr>\n",
       "      <th>883</th>\n",
       "      <td>2022-06-23</td>\n",
       "      <td>27681775</td>\n",
       "      <td>43362294</td>\n",
       "      <td>86757621</td>\n",
       "    </tr>\n",
       "    <tr>\n",
       "      <th>884</th>\n",
       "      <td>2022-06-24</td>\n",
       "      <td>27771111</td>\n",
       "      <td>43378234</td>\n",
       "      <td>86909716</td>\n",
       "    </tr>\n",
       "    <tr>\n",
       "      <th>885</th>\n",
       "      <td>2022-06-25</td>\n",
       "      <td>27771112</td>\n",
       "      <td>43389973</td>\n",
       "      <td>86949088</td>\n",
       "    </tr>\n",
       "    <tr>\n",
       "      <th>886</th>\n",
       "      <td>2022-06-26</td>\n",
       "      <td>27771911</td>\n",
       "      <td>43407046</td>\n",
       "      <td>86967639</td>\n",
       "    </tr>\n",
       "  </tbody>\n",
       "</table>\n",
       "<p>887 rows × 4 columns</p>\n",
       "</div>"
      ],
      "text/plain": [
       "          date   Germany     India        US\n",
       "0   2020-01-22         0         0         1\n",
       "1   2020-01-23         0         0         1\n",
       "2   2020-01-24         0         0         2\n",
       "3   2020-01-25         0         0         2\n",
       "4   2020-01-26         0         0         5\n",
       "..         ...       ...       ...       ...\n",
       "882 2022-06-22  27573585  43344958  86636306\n",
       "883 2022-06-23  27681775  43362294  86757621\n",
       "884 2022-06-24  27771111  43378234  86909716\n",
       "885 2022-06-25  27771112  43389973  86949088\n",
       "886 2022-06-26  27771911  43407046  86967639\n",
       "\n",
       "[887 rows x 4 columns]"
      ]
     },
     "execution_count": 3,
     "metadata": {},
     "output_type": "execute_result"
    }
   ],
   "source": [
    "df_new"
   ]
  },
  {
   "cell_type": "markdown",
   "id": "c063aa91",
   "metadata": {},
   "source": [
    "# General Functions"
   ]
  },
  {
   "cell_type": "code",
   "execution_count": 4,
   "id": "ea3ce8cb",
   "metadata": {},
   "outputs": [],
   "source": [
    "def SIR_model(SIR,beta,gamma):\n",
    "    ''' Simple SIR model\n",
    "        S: susceptible population\n",
    "        I: infected people\n",
    "        R: recovered people\n",
    "        beta: \n",
    "        \n",
    "        overall condition is that the sum of changes (differnces) sum up to 0\n",
    "        dS+dI+dR=0\n",
    "        S+I+R= N (constant size of population)\n",
    "    \n",
    "    '''\n",
    "    \n",
    "    S,I,R=SIR\n",
    "    dS_dt=-beta*S*I/N0          #S*I is the \n",
    "    dI_dt=beta*S*I/N0-gamma*I\n",
    "    dR_dt=gamma*I\n",
    "    return([dS_dt,dI_dt,dR_dt])"
   ]
  },
  {
   "cell_type": "code",
   "execution_count": 5,
   "id": "8ed6f217",
   "metadata": {},
   "outputs": [],
   "source": [
    "def SIR_model_t(SIR,t,beta,gamma):\n",
    "    ''' Simple SIR model\n",
    "        S: susceptible population\n",
    "        t: time step, mandatory for integral.odeint\n",
    "        I: infected people\n",
    "        R: recovered people\n",
    "        beta: \n",
    "        \n",
    "        overall condition is that the sum of changes (differnces) sum up to 0\n",
    "        dS+dI+dR=0\n",
    "        S+I+R= N (constant size of population)\n",
    "    \n",
    "    '''\n",
    "    \n",
    "    S,I,R=SIR\n",
    "    dS_dt=-beta*S*I/N0          #S*I is the \n",
    "    dI_dt=beta*S*I/N0-gamma*I\n",
    "    dR_dt=gamma*I\n",
    "    return dS_dt,dI_dt,dR_dt"
   ]
  },
  {
   "cell_type": "code",
   "execution_count": 6,
   "id": "d33d14cd",
   "metadata": {},
   "outputs": [],
   "source": [
    "def fit_odeint(x, beta, gamma):\n",
    "    '''\n",
    "    helper function for the integration\n",
    "    '''\n",
    "    return integrate.odeint(SIR_model_t, (S0, I0, R0), t, args=(beta, gamma))[:,1] # we only would like to get dI"
   ]
  },
  {
   "cell_type": "markdown",
   "id": "d09baa7e",
   "metadata": {},
   "source": [
    "# Loop for all country"
   ]
  },
  {
   "cell_type": "code",
   "execution_count": 7,
   "id": "67860036",
   "metadata": {},
   "outputs": [
    {
     "name": "stderr",
     "output_type": "stream",
     "text": [
      "c:\\Users\\rohan\\OneDrive\\Desktop\\EDS\\dsvenv\\lib\\site-packages\\scipy\\integrate\\_odepack_py.py:247: ODEintWarning: Excess work done on this call (perhaps wrong Dfun type). Run with full_output = 1 to get quantitative information.\n",
      "  warnings.warn(warning_msg, ODEintWarning)\n",
      "c:\\Users\\rohan\\OneDrive\\Desktop\\EDS\\dsvenv\\lib\\site-packages\\scipy\\integrate\\_odepack_py.py:247: ODEintWarning: Excess work done on this call (perhaps wrong Dfun type). Run with full_output = 1 to get quantitative information.\n",
      "  warnings.warn(warning_msg, ODEintWarning)\n"
     ]
    },
    {
     "name": "stdout",
     "output_type": "stream",
     "text": [
      "standard deviation errors :  [0.06445952 0.06416931]  start infect: 21\n",
      "Optimal parameters: beta = 2.8955981980680234  and gamma =  2.70405754939007\n",
      "Germany:Optimal parameters: beta = 2.8955981980680234  and gamma =  2.70405754939007\n",
      "GermanyBasic Reproduction Number R0  1.070834531136794\n",
      "standard deviation errors :  [0.31532379 0.31483443]  start infect: 3\n",
      "Optimal parameters: beta = 25.241801758977743  and gamma =  25.071925605354092\n",
      "India:Optimal parameters: beta = 25.241801758977743  and gamma =  25.071925605354092\n",
      "IndiaBasic Reproduction Number R0  1.0067755527157185\n",
      "standard deviation errors :  [0.05713035 0.05680689]  start infect: 16\n",
      "Optimal parameters: beta = 2.7203961657596185  and gamma =  2.5024992266052672\n",
      "US:Optimal parameters: beta = 2.7203961657596185  and gamma =  2.5024992266052672\n",
      "USBasic Reproduction Number R0  1.0870717308672004\n"
     ]
    },
    {
     "name": "stderr",
     "output_type": "stream",
     "text": [
      "c:\\Users\\rohan\\OneDrive\\Desktop\\EDS\\dsvenv\\lib\\site-packages\\scipy\\integrate\\_odepack_py.py:247: ODEintWarning: Excess work done on this call (perhaps wrong Dfun type). Run with full_output = 1 to get quantitative information.\n",
      "  warnings.warn(warning_msg, ODEintWarning)\n",
      "C:\\Users\\rohan\\AppData\\Local\\Temp\\ipykernel_1640\\649699423.py:16: RuntimeWarning: overflow encountered in double_scalars\n",
      "  dS_dt=-beta*S*I/N0          #S*I is the\n",
      "C:\\Users\\rohan\\AppData\\Local\\Temp\\ipykernel_1640\\649699423.py:17: RuntimeWarning: overflow encountered in double_scalars\n",
      "  dI_dt=beta*S*I/N0-gamma*I\n",
      "C:\\Users\\rohan\\AppData\\Local\\Temp\\ipykernel_1640\\649699423.py:18: RuntimeWarning: overflow encountered in double_scalars\n",
      "  dR_dt=gamma*I\n"
     ]
    }
   ],
   "source": [
    "ydata = np.array(df_new['Germany'][35:100])\n",
    "t=np.arange(len(ydata))\n",
    "x=np.linspace(1,len(ydata),len(ydata))\n",
    "df_plot=pd.DataFrame({'day':np.array(x)})\n",
    "\n",
    "for each in country: \n",
    "    \n",
    "    if each=='Germany':\n",
    "        N0=80000000 #max susceptible population\n",
    "    elif each=='India':\n",
    "        N0=1380000000\n",
    "    else:\n",
    "        N0=329000000\n",
    "        \n",
    "    beta=0.4   # infection spread dynamics\n",
    "    gamma=0.1\n",
    "    \n",
    "    I0=df_new[each][35]\n",
    "    S0=N0-I0\n",
    "    R0=0\n",
    "    \n",
    "    ydata = np.array(df_new[each][35:100])\n",
    "    t=np.arange(len(ydata))\n",
    "    \n",
    "    # example curve of our differential equationa\n",
    "    popt=[beta,gamma]\n",
    "    fit_odeint(t, *popt);\n",
    "    \n",
    "    popt, pcov = optimize.curve_fit(fit_odeint, t, ydata)\n",
    "    perr = np.sqrt(np.diag(pcov))\n",
    "    \n",
    "    print('standard deviation errors : ',str(perr), ' start infect:',ydata[0])\n",
    "    print(\"Optimal parameters: beta =\", popt[0], \" and gamma = \", popt[1])\n",
    "    \n",
    "    # get the final fitted curve\n",
    "    fitted=fit_odeint(t, *popt)\n",
    "    len(fitted)\n",
    "    x=np.linspace(1,len(fitted),len(fitted))\n",
    "    #df_plot=pd.DataFrame({'day':np.array(x)})\n",
    "    new={each+'_fit':np.array(fitted),\n",
    "         each+'_case':np.array(df_new[each][35:100])\n",
    "        }\n",
    "    pd_new=pd.DataFrame(new)\n",
    "    df_plot=pd.concat([df_plot,pd_new],axis=1)\n",
    "    print(each+\":Optimal parameters: beta =\", popt[0], \" and gamma = \", popt[1])\n",
    "    print(each+\"Basic Reproduction Number R0 \" , popt[0]/ popt[1])"
   ]
  },
  {
   "cell_type": "code",
   "execution_count": 8,
   "id": "0fd04bb5",
   "metadata": {},
   "outputs": [
    {
     "data": {
      "text/html": [
       "<div>\n",
       "<style scoped>\n",
       "    .dataframe tbody tr th:only-of-type {\n",
       "        vertical-align: middle;\n",
       "    }\n",
       "\n",
       "    .dataframe tbody tr th {\n",
       "        vertical-align: top;\n",
       "    }\n",
       "\n",
       "    .dataframe thead th {\n",
       "        text-align: right;\n",
       "    }\n",
       "</style>\n",
       "<table border=\"1\" class=\"dataframe\">\n",
       "  <thead>\n",
       "    <tr style=\"text-align: right;\">\n",
       "      <th></th>\n",
       "      <th>day</th>\n",
       "      <th>Germany_fit</th>\n",
       "      <th>Germany_case</th>\n",
       "      <th>India_fit</th>\n",
       "      <th>India_case</th>\n",
       "      <th>US_fit</th>\n",
       "      <th>US_case</th>\n",
       "    </tr>\n",
       "  </thead>\n",
       "  <tbody>\n",
       "    <tr>\n",
       "      <th>0</th>\n",
       "      <td>1.0</td>\n",
       "      <td>21.000000</td>\n",
       "      <td>21</td>\n",
       "      <td>3.000000</td>\n",
       "      <td>3</td>\n",
       "      <td>1.600000e+01</td>\n",
       "      <td>16</td>\n",
       "    </tr>\n",
       "    <tr>\n",
       "      <th>1</th>\n",
       "      <td>2.0</td>\n",
       "      <td>25.433346</td>\n",
       "      <td>26</td>\n",
       "      <td>3.555471</td>\n",
       "      <td>3</td>\n",
       "      <td>1.989534e+01</td>\n",
       "      <td>17</td>\n",
       "    </tr>\n",
       "    <tr>\n",
       "      <th>2</th>\n",
       "      <td>3.0</td>\n",
       "      <td>30.802541</td>\n",
       "      <td>53</td>\n",
       "      <td>4.213785</td>\n",
       "      <td>3</td>\n",
       "      <td>2.473901e+01</td>\n",
       "      <td>17</td>\n",
       "    </tr>\n",
       "    <tr>\n",
       "      <th>3</th>\n",
       "      <td>4.0</td>\n",
       "      <td>37.305098</td>\n",
       "      <td>66</td>\n",
       "      <td>4.993980</td>\n",
       "      <td>3</td>\n",
       "      <td>3.076191e+01</td>\n",
       "      <td>25</td>\n",
       "    </tr>\n",
       "    <tr>\n",
       "      <th>4</th>\n",
       "      <td>5.0</td>\n",
       "      <td>45.180198</td>\n",
       "      <td>117</td>\n",
       "      <td>5.918616</td>\n",
       "      <td>3</td>\n",
       "      <td>3.825109e+01</td>\n",
       "      <td>32</td>\n",
       "    </tr>\n",
       "    <tr>\n",
       "      <th>5</th>\n",
       "      <td>6.0</td>\n",
       "      <td>54.717469</td>\n",
       "      <td>150</td>\n",
       "      <td>7.014429</td>\n",
       "      <td>5</td>\n",
       "      <td>4.756352e+01</td>\n",
       "      <td>55</td>\n",
       "    </tr>\n",
       "    <tr>\n",
       "      <th>6</th>\n",
       "      <td>7.0</td>\n",
       "      <td>66.267621</td>\n",
       "      <td>188</td>\n",
       "      <td>8.313102</td>\n",
       "      <td>5</td>\n",
       "      <td>5.914305e+01</td>\n",
       "      <td>74</td>\n",
       "    </tr>\n",
       "    <tr>\n",
       "      <th>7</th>\n",
       "      <td>8.0</td>\n",
       "      <td>80.255301</td>\n",
       "      <td>240</td>\n",
       "      <td>9.852177</td>\n",
       "      <td>28</td>\n",
       "      <td>7.354156e+01</td>\n",
       "      <td>107</td>\n",
       "    </tr>\n",
       "    <tr>\n",
       "      <th>8</th>\n",
       "      <td>9.0</td>\n",
       "      <td>97.194662</td>\n",
       "      <td>349</td>\n",
       "      <td>11.676141</td>\n",
       "      <td>30</td>\n",
       "      <td>9.144527e+01</td>\n",
       "      <td>184</td>\n",
       "    </tr>\n",
       "    <tr>\n",
       "      <th>9</th>\n",
       "      <td>10.0</td>\n",
       "      <td>117.708184</td>\n",
       "      <td>534</td>\n",
       "      <td>13.837706</td>\n",
       "      <td>31</td>\n",
       "      <td>1.137074e+02</td>\n",
       "      <td>237</td>\n",
       "    </tr>\n",
       "    <tr>\n",
       "      <th>10</th>\n",
       "      <td>11.0</td>\n",
       "      <td>142.549446</td>\n",
       "      <td>684</td>\n",
       "      <td>16.399329</td>\n",
       "      <td>34</td>\n",
       "      <td>1.413889e+02</td>\n",
       "      <td>403</td>\n",
       "    </tr>\n",
       "    <tr>\n",
       "      <th>11</th>\n",
       "      <td>12.0</td>\n",
       "      <td>172.630648</td>\n",
       "      <td>847</td>\n",
       "      <td>19.435010</td>\n",
       "      <td>39</td>\n",
       "      <td>1.758086e+02</td>\n",
       "      <td>519</td>\n",
       "    </tr>\n",
       "    <tr>\n",
       "      <th>12</th>\n",
       "      <td>13.0</td>\n",
       "      <td>209.055880</td>\n",
       "      <td>1112</td>\n",
       "      <td>23.032419</td>\n",
       "      <td>43</td>\n",
       "      <td>2.186067e+02</td>\n",
       "      <td>594</td>\n",
       "    </tr>\n",
       "    <tr>\n",
       "      <th>13</th>\n",
       "      <td>14.0</td>\n",
       "      <td>253.161307</td>\n",
       "      <td>1296</td>\n",
       "      <td>27.295416</td>\n",
       "      <td>56</td>\n",
       "      <td>2.718220e+02</td>\n",
       "      <td>782</td>\n",
       "    </tr>\n",
       "    <tr>\n",
       "      <th>14</th>\n",
       "      <td>15.0</td>\n",
       "      <td>306.563688</td>\n",
       "      <td>1567</td>\n",
       "      <td>32.347028</td>\n",
       "      <td>62</td>\n",
       "      <td>3.379894e+02</td>\n",
       "      <td>1147</td>\n",
       "    </tr>\n",
       "    <tr>\n",
       "      <th>15</th>\n",
       "      <td>16.0</td>\n",
       "      <td>371.218918</td>\n",
       "      <td>2369</td>\n",
       "      <td>38.332978</td>\n",
       "      <td>73</td>\n",
       "      <td>4.202602e+02</td>\n",
       "      <td>1586</td>\n",
       "    </tr>\n",
       "    <tr>\n",
       "      <th>16</th>\n",
       "      <td>17.0</td>\n",
       "      <td>449.492595</td>\n",
       "      <td>3062</td>\n",
       "      <td>45.425846</td>\n",
       "      <td>82</td>\n",
       "      <td>5.225518e+02</td>\n",
       "      <td>2219</td>\n",
       "    </tr>\n",
       "    <tr>\n",
       "      <th>17</th>\n",
       "      <td>18.0</td>\n",
       "      <td>544.245018</td>\n",
       "      <td>3795</td>\n",
       "      <td>53.829998</td>\n",
       "      <td>102</td>\n",
       "      <td>6.497335e+02</td>\n",
       "      <td>2978</td>\n",
       "    </tr>\n",
       "    <tr>\n",
       "      <th>18</th>\n",
       "      <td>19.0</td>\n",
       "      <td>658.933424</td>\n",
       "      <td>4838</td>\n",
       "      <td>63.787396</td>\n",
       "      <td>113</td>\n",
       "      <td>8.078576e+02</td>\n",
       "      <td>3212</td>\n",
       "    </tr>\n",
       "    <tr>\n",
       "      <th>19</th>\n",
       "      <td>20.0</td>\n",
       "      <td>797.734790</td>\n",
       "      <td>6012</td>\n",
       "      <td>75.584470</td>\n",
       "      <td>119</td>\n",
       "      <td>1.004446e+03</td>\n",
       "      <td>4679</td>\n",
       "    </tr>\n",
       "    <tr>\n",
       "      <th>20</th>\n",
       "      <td>21.0</td>\n",
       "      <td>965.693065</td>\n",
       "      <td>7156</td>\n",
       "      <td>89.560204</td>\n",
       "      <td>142</td>\n",
       "      <td>1.248844e+03</td>\n",
       "      <td>6512</td>\n",
       "    </tr>\n",
       "    <tr>\n",
       "      <th>21</th>\n",
       "      <td>22.0</td>\n",
       "      <td>1168.895298</td>\n",
       "      <td>8198</td>\n",
       "      <td>106.115684</td>\n",
       "      <td>156</td>\n",
       "      <td>1.552665e+03</td>\n",
       "      <td>9169</td>\n",
       "    </tr>\n",
       "    <tr>\n",
       "      <th>22</th>\n",
       "      <td>23.0</td>\n",
       "      <td>1414.681765</td>\n",
       "      <td>10999</td>\n",
       "      <td>125.725320</td>\n",
       "      <td>194</td>\n",
       "      <td>1.930332e+03</td>\n",
       "      <td>13663</td>\n",
       "    </tr>\n",
       "    <tr>\n",
       "      <th>23</th>\n",
       "      <td>24.0</td>\n",
       "      <td>1711.895817</td>\n",
       "      <td>13957</td>\n",
       "      <td>148.950050</td>\n",
       "      <td>244</td>\n",
       "      <td>2.399758e+03</td>\n",
       "      <td>20030</td>\n",
       "    </tr>\n",
       "    <tr>\n",
       "      <th>24</th>\n",
       "      <td>25.0</td>\n",
       "      <td>2071.179679</td>\n",
       "      <td>16662</td>\n",
       "      <td>176.452826</td>\n",
       "      <td>330</td>\n",
       "      <td>2.983178e+03</td>\n",
       "      <td>26025</td>\n",
       "    </tr>\n",
       "    <tr>\n",
       "      <th>25</th>\n",
       "      <td>26.0</td>\n",
       "      <td>2505.322867</td>\n",
       "      <td>18610</td>\n",
       "      <td>209.016763</td>\n",
       "      <td>396</td>\n",
       "      <td>3.708189e+03</td>\n",
       "      <td>34944</td>\n",
       "    </tr>\n",
       "    <tr>\n",
       "      <th>26</th>\n",
       "      <td>27.0</td>\n",
       "      <td>3029.669863</td>\n",
       "      <td>22672</td>\n",
       "      <td>247.566346</td>\n",
       "      <td>499</td>\n",
       "      <td>4.609014e+03</td>\n",
       "      <td>46096</td>\n",
       "    </tr>\n",
       "    <tr>\n",
       "      <th>27</th>\n",
       "      <td>28.0</td>\n",
       "      <td>3662.593153</td>\n",
       "      <td>27436</td>\n",
       "      <td>293.192151</td>\n",
       "      <td>536</td>\n",
       "      <td>5.728080e+03</td>\n",
       "      <td>56714</td>\n",
       "    </tr>\n",
       "    <tr>\n",
       "      <th>28</th>\n",
       "      <td>29.0</td>\n",
       "      <td>4426.036231</td>\n",
       "      <td>31554</td>\n",
       "      <td>347.179558</td>\n",
       "      <td>657</td>\n",
       "      <td>7.117933e+03</td>\n",
       "      <td>68841</td>\n",
       "    </tr>\n",
       "    <tr>\n",
       "      <th>29</th>\n",
       "      <td>30.0</td>\n",
       "      <td>5346.128199</td>\n",
       "      <td>36508</td>\n",
       "      <td>411.041976</td>\n",
       "      <td>727</td>\n",
       "      <td>8.843597e+03</td>\n",
       "      <td>86662</td>\n",
       "    </tr>\n",
       "    <tr>\n",
       "      <th>30</th>\n",
       "      <td>31.0</td>\n",
       "      <td>6453.866438</td>\n",
       "      <td>42288</td>\n",
       "      <td>486.559092</td>\n",
       "      <td>887</td>\n",
       "      <td>1.098544e+04</td>\n",
       "      <td>105253</td>\n",
       "    </tr>\n",
       "    <tr>\n",
       "      <th>31</th>\n",
       "      <td>32.0</td>\n",
       "      <td>7785.855420</td>\n",
       "      <td>48582</td>\n",
       "      <td>575.820635</td>\n",
       "      <td>987</td>\n",
       "      <td>1.364263e+04</td>\n",
       "      <td>127417</td>\n",
       "    </tr>\n",
       "    <tr>\n",
       "      <th>32</th>\n",
       "      <td>33.0</td>\n",
       "      <td>9385.076775</td>\n",
       "      <td>52547</td>\n",
       "      <td>681.276066</td>\n",
       "      <td>1024</td>\n",
       "      <td>1.693733e+04</td>\n",
       "      <td>143544</td>\n",
       "    </tr>\n",
       "    <tr>\n",
       "      <th>33</th>\n",
       "      <td>34.0</td>\n",
       "      <td>11301.646496</td>\n",
       "      <td>57298</td>\n",
       "      <td>805.790469</td>\n",
       "      <td>1251</td>\n",
       "      <td>2.101967e+04</td>\n",
       "      <td>165698</td>\n",
       "    </tr>\n",
       "    <tr>\n",
       "      <th>34</th>\n",
       "      <td>35.0</td>\n",
       "      <td>13593.487718</td>\n",
       "      <td>61913</td>\n",
       "      <td>952.706630</td>\n",
       "      <td>1397</td>\n",
       "      <td>2.607359e+04</td>\n",
       "      <td>192079</td>\n",
       "    </tr>\n",
       "    <tr>\n",
       "      <th>35</th>\n",
       "      <td>36.0</td>\n",
       "      <td>16326.808944</td>\n",
       "      <td>67366</td>\n",
       "      <td>1125.912911</td>\n",
       "      <td>1998</td>\n",
       "      <td>3.232366e+04</td>\n",
       "      <td>223254</td>\n",
       "    </tr>\n",
       "    <tr>\n",
       "      <th>36</th>\n",
       "      <td>37.0</td>\n",
       "      <td>19576.226987</td>\n",
       "      <td>73522</td>\n",
       "      <td>1329.915852</td>\n",
       "      <td>2543</td>\n",
       "      <td>4.004271e+04</td>\n",
       "      <td>255530</td>\n",
       "    </tr>\n",
       "    <tr>\n",
       "      <th>37</th>\n",
       "      <td>38.0</td>\n",
       "      <td>23424.308521</td>\n",
       "      <td>79696</td>\n",
       "      <td>1569.915570</td>\n",
       "      <td>2567</td>\n",
       "      <td>4.956036e+04</td>\n",
       "      <td>287931</td>\n",
       "    </tr>\n",
       "    <tr>\n",
       "      <th>38</th>\n",
       "      <td>39.0</td>\n",
       "      <td>27960.226602</td>\n",
       "      <td>85778</td>\n",
       "      <td>1851.880648</td>\n",
       "      <td>3082</td>\n",
       "      <td>6.127176e+04</td>\n",
       "      <td>319776</td>\n",
       "    </tr>\n",
       "    <tr>\n",
       "      <th>39</th>\n",
       "      <td>40.0</td>\n",
       "      <td>33277.143436</td>\n",
       "      <td>91714</td>\n",
       "      <td>2182.617447</td>\n",
       "      <td>3588</td>\n",
       "      <td>7.564619e+04</td>\n",
       "      <td>349016</td>\n",
       "    </tr>\n",
       "    <tr>\n",
       "      <th>40</th>\n",
       "      <td>41.0</td>\n",
       "      <td>39467.852384</td>\n",
       "      <td>95391</td>\n",
       "      <td>2569.826290</td>\n",
       "      <td>4778</td>\n",
       "      <td>9.323399e+04</td>\n",
       "      <td>380798</td>\n",
       "    </tr>\n",
       "    <tr>\n",
       "      <th>41</th>\n",
       "      <td>42.0</td>\n",
       "      <td>46618.166084</td>\n",
       "      <td>99225</td>\n",
       "      <td>3022.133780</td>\n",
       "      <td>5311</td>\n",
       "      <td>1.146703e+05</td>\n",
       "      <td>410834</td>\n",
       "    </tr>\n",
       "    <tr>\n",
       "      <th>42</th>\n",
       "      <td>43.0</td>\n",
       "      <td>54797.566238</td>\n",
       "      <td>103228</td>\n",
       "      <td>3549.086448</td>\n",
       "      <td>5916</td>\n",
       "      <td>1.406723e+05</td>\n",
       "      <td>441897</td>\n",
       "    </tr>\n",
       "    <tr>\n",
       "      <th>43</th>\n",
       "      <td>44.0</td>\n",
       "      <td>64046.793077</td>\n",
       "      <td>108202</td>\n",
       "      <td>4161.085975</td>\n",
       "      <td>6725</td>\n",
       "      <td>1.720266e+05</td>\n",
       "      <td>477507</td>\n",
       "    </tr>\n",
       "    <tr>\n",
       "      <th>44</th>\n",
       "      <td>45.0</td>\n",
       "      <td>74362.424879</td>\n",
       "      <td>113525</td>\n",
       "      <td>4869.240503</td>\n",
       "      <td>7598</td>\n",
       "      <td>2.095600e+05</td>\n",
       "      <td>511790</td>\n",
       "    </tr>\n",
       "    <tr>\n",
       "      <th>45</th>\n",
       "      <td>46.0</td>\n",
       "      <td>85679.148726</td>\n",
       "      <td>117658</td>\n",
       "      <td>5685.100509</td>\n",
       "      <td>8446</td>\n",
       "      <td>2.540889e+05</td>\n",
       "      <td>540714</td>\n",
       "    </tr>\n",
       "    <tr>\n",
       "      <th>46</th>\n",
       "      <td>47.0</td>\n",
       "      <td>97851.382224</td>\n",
       "      <td>120479</td>\n",
       "      <td>6620.242037</td>\n",
       "      <td>9205</td>\n",
       "      <td>3.063376e+05</td>\n",
       "      <td>567022</td>\n",
       "    </tr>\n",
       "    <tr>\n",
       "      <th>47</th>\n",
       "      <td>48.0</td>\n",
       "      <td>110637.101930</td>\n",
       "      <td>123016</td>\n",
       "      <td>7685.656403</td>\n",
       "      <td>10453</td>\n",
       "      <td>3.668203e+05</td>\n",
       "      <td>594165</td>\n",
       "    </tr>\n",
       "    <tr>\n",
       "      <th>48</th>\n",
       "      <td>49.0</td>\n",
       "      <td>123687.935648</td>\n",
       "      <td>125098</td>\n",
       "      <td>8890.905864</td>\n",
       "      <td>11487</td>\n",
       "      <td>4.356839e+05</td>\n",
       "      <td>622493</td>\n",
       "    </tr>\n",
       "    <tr>\n",
       "      <th>49</th>\n",
       "      <td>50.0</td>\n",
       "      <td>136550.330294</td>\n",
       "      <td>127584</td>\n",
       "      <td>10243.012597</td>\n",
       "      <td>12322</td>\n",
       "      <td>5.125149e+05</td>\n",
       "      <td>648390</td>\n",
       "    </tr>\n",
       "    <tr>\n",
       "      <th>50</th>\n",
       "      <td>51.0</td>\n",
       "      <td>148682.329113</td>\n",
       "      <td>130450</td>\n",
       "      <td>11745.067634</td>\n",
       "      <td>13430</td>\n",
       "      <td>5.961314e+05</td>\n",
       "      <td>678028</td>\n",
       "    </tr>\n",
       "    <tr>\n",
       "      <th>51</th>\n",
       "      <td>52.0</td>\n",
       "      <td>159488.621924</td>\n",
       "      <td>133830</td>\n",
       "      <td>13394.581665</td>\n",
       "      <td>14352</td>\n",
       "      <td>6.843959e+05</td>\n",
       "      <td>711135</td>\n",
       "    </tr>\n",
       "    <tr>\n",
       "      <th>52</th>\n",
       "      <td>53.0</td>\n",
       "      <td>168372.890312</td>\n",
       "      <td>137439</td>\n",
       "      <td>15181.654473</td>\n",
       "      <td>15722</td>\n",
       "      <td>7.741063e+05</td>\n",
       "      <td>738464</td>\n",
       "    </tr>\n",
       "    <tr>\n",
       "      <th>53</th>\n",
       "      <td>54.0</td>\n",
       "      <td>174801.655494</td>\n",
       "      <td>139897</td>\n",
       "      <td>17087.114817</td>\n",
       "      <td>17615</td>\n",
       "      <td>8.610349e+05</td>\n",
       "      <td>763886</td>\n",
       "    </tr>\n",
       "    <tr>\n",
       "      <th>54</th>\n",
       "      <td>55.0</td>\n",
       "      <td>178369.255728</td>\n",
       "      <td>141672</td>\n",
       "      <td>19080.872392</td>\n",
       "      <td>18539</td>\n",
       "      <td>9.401760e+05</td>\n",
       "      <td>793970</td>\n",
       "    </tr>\n",
       "    <tr>\n",
       "      <th>55</th>\n",
       "      <td>56.0</td>\n",
       "      <td>178851.137527</td>\n",
       "      <td>143457</td>\n",
       "      <td>21120.813420</td>\n",
       "      <td>20080</td>\n",
       "      <td>1.006228e+06</td>\n",
       "      <td>820045</td>\n",
       "    </tr>\n",
       "    <tr>\n",
       "      <th>56</th>\n",
       "      <td>57.0</td>\n",
       "      <td>176233.763532</td>\n",
       "      <td>145694</td>\n",
       "      <td>23152.635481</td>\n",
       "      <td>21370</td>\n",
       "      <td>1.054261e+06</td>\n",
       "      <td>849926</td>\n",
       "    </tr>\n",
       "    <tr>\n",
       "      <th>57</th>\n",
       "      <td>58.0</td>\n",
       "      <td>170714.421467</td>\n",
       "      <td>148046</td>\n",
       "      <td>25111.019529</td>\n",
       "      <td>23077</td>\n",
       "      <td>1.080458e+06</td>\n",
       "      <td>881891</td>\n",
       "    </tr>\n",
       "    <tr>\n",
       "      <th>58</th>\n",
       "      <td>59.0</td>\n",
       "      <td>162671.359975</td>\n",
       "      <td>150383</td>\n",
       "      <td>26922.441189</td>\n",
       "      <td>24530</td>\n",
       "      <td>1.082741e+06</td>\n",
       "      <td>913856</td>\n",
       "    </tr>\n",
       "    <tr>\n",
       "      <th>59</th>\n",
       "      <td>60.0</td>\n",
       "      <td>152611.640642</td>\n",
       "      <td>152438</td>\n",
       "      <td>28509.702623</td>\n",
       "      <td>26283</td>\n",
       "      <td>1.061120e+06</td>\n",
       "      <td>944770</td>\n",
       "    </tr>\n",
       "    <tr>\n",
       "      <th>60</th>\n",
       "      <td>61.0</td>\n",
       "      <td>141108.345392</td>\n",
       "      <td>154175</td>\n",
       "      <td>29797.944495</td>\n",
       "      <td>27890</td>\n",
       "      <td>1.017659e+06</td>\n",
       "      <td>970741</td>\n",
       "    </tr>\n",
       "    <tr>\n",
       "      <th>61</th>\n",
       "      <td>62.0</td>\n",
       "      <td>128739.326866</td>\n",
       "      <td>155193</td>\n",
       "      <td>30721.502918</td>\n",
       "      <td>29451</td>\n",
       "      <td>9.560894e+05</td>\n",
       "      <td>995391</td>\n",
       "    </tr>\n",
       "    <tr>\n",
       "      <th>62</th>\n",
       "      <td>63.0</td>\n",
       "      <td>116036.993282</td>\n",
       "      <td>156337</td>\n",
       "      <td>31230.658158</td>\n",
       "      <td>31324</td>\n",
       "      <td>8.811692e+05</td>\n",
       "      <td>1019964</td>\n",
       "    </tr>\n",
       "    <tr>\n",
       "      <th>63</th>\n",
       "      <td>64.0</td>\n",
       "      <td>103454.235249</td>\n",
       "      <td>157641</td>\n",
       "      <td>31297.152760</td>\n",
       "      <td>33062</td>\n",
       "      <td>7.979818e+05</td>\n",
       "      <td>1046816</td>\n",
       "    </tr>\n",
       "    <tr>\n",
       "      <th>64</th>\n",
       "      <td>65.0</td>\n",
       "      <td>91347.238734</td>\n",
       "      <td>159119</td>\n",
       "      <td>30917.466373</td>\n",
       "      <td>34863</td>\n",
       "      <td>7.113191e+05</td>\n",
       "      <td>1076518</td>\n",
       "    </tr>\n",
       "  </tbody>\n",
       "</table>\n",
       "</div>"
      ],
      "text/plain": [
       "     day    Germany_fit  Germany_case     India_fit  India_case        US_fit  \\\n",
       "0    1.0      21.000000            21      3.000000           3  1.600000e+01   \n",
       "1    2.0      25.433346            26      3.555471           3  1.989534e+01   \n",
       "2    3.0      30.802541            53      4.213785           3  2.473901e+01   \n",
       "3    4.0      37.305098            66      4.993980           3  3.076191e+01   \n",
       "4    5.0      45.180198           117      5.918616           3  3.825109e+01   \n",
       "5    6.0      54.717469           150      7.014429           5  4.756352e+01   \n",
       "6    7.0      66.267621           188      8.313102           5  5.914305e+01   \n",
       "7    8.0      80.255301           240      9.852177          28  7.354156e+01   \n",
       "8    9.0      97.194662           349     11.676141          30  9.144527e+01   \n",
       "9   10.0     117.708184           534     13.837706          31  1.137074e+02   \n",
       "10  11.0     142.549446           684     16.399329          34  1.413889e+02   \n",
       "11  12.0     172.630648           847     19.435010          39  1.758086e+02   \n",
       "12  13.0     209.055880          1112     23.032419          43  2.186067e+02   \n",
       "13  14.0     253.161307          1296     27.295416          56  2.718220e+02   \n",
       "14  15.0     306.563688          1567     32.347028          62  3.379894e+02   \n",
       "15  16.0     371.218918          2369     38.332978          73  4.202602e+02   \n",
       "16  17.0     449.492595          3062     45.425846          82  5.225518e+02   \n",
       "17  18.0     544.245018          3795     53.829998         102  6.497335e+02   \n",
       "18  19.0     658.933424          4838     63.787396         113  8.078576e+02   \n",
       "19  20.0     797.734790          6012     75.584470         119  1.004446e+03   \n",
       "20  21.0     965.693065          7156     89.560204         142  1.248844e+03   \n",
       "21  22.0    1168.895298          8198    106.115684         156  1.552665e+03   \n",
       "22  23.0    1414.681765         10999    125.725320         194  1.930332e+03   \n",
       "23  24.0    1711.895817         13957    148.950050         244  2.399758e+03   \n",
       "24  25.0    2071.179679         16662    176.452826         330  2.983178e+03   \n",
       "25  26.0    2505.322867         18610    209.016763         396  3.708189e+03   \n",
       "26  27.0    3029.669863         22672    247.566346         499  4.609014e+03   \n",
       "27  28.0    3662.593153         27436    293.192151         536  5.728080e+03   \n",
       "28  29.0    4426.036231         31554    347.179558         657  7.117933e+03   \n",
       "29  30.0    5346.128199         36508    411.041976         727  8.843597e+03   \n",
       "30  31.0    6453.866438         42288    486.559092         887  1.098544e+04   \n",
       "31  32.0    7785.855420         48582    575.820635         987  1.364263e+04   \n",
       "32  33.0    9385.076775         52547    681.276066        1024  1.693733e+04   \n",
       "33  34.0   11301.646496         57298    805.790469        1251  2.101967e+04   \n",
       "34  35.0   13593.487718         61913    952.706630        1397  2.607359e+04   \n",
       "35  36.0   16326.808944         67366   1125.912911        1998  3.232366e+04   \n",
       "36  37.0   19576.226987         73522   1329.915852        2543  4.004271e+04   \n",
       "37  38.0   23424.308521         79696   1569.915570        2567  4.956036e+04   \n",
       "38  39.0   27960.226602         85778   1851.880648        3082  6.127176e+04   \n",
       "39  40.0   33277.143436         91714   2182.617447        3588  7.564619e+04   \n",
       "40  41.0   39467.852384         95391   2569.826290        4778  9.323399e+04   \n",
       "41  42.0   46618.166084         99225   3022.133780        5311  1.146703e+05   \n",
       "42  43.0   54797.566238        103228   3549.086448        5916  1.406723e+05   \n",
       "43  44.0   64046.793077        108202   4161.085975        6725  1.720266e+05   \n",
       "44  45.0   74362.424879        113525   4869.240503        7598  2.095600e+05   \n",
       "45  46.0   85679.148726        117658   5685.100509        8446  2.540889e+05   \n",
       "46  47.0   97851.382224        120479   6620.242037        9205  3.063376e+05   \n",
       "47  48.0  110637.101930        123016   7685.656403       10453  3.668203e+05   \n",
       "48  49.0  123687.935648        125098   8890.905864       11487  4.356839e+05   \n",
       "49  50.0  136550.330294        127584  10243.012597       12322  5.125149e+05   \n",
       "50  51.0  148682.329113        130450  11745.067634       13430  5.961314e+05   \n",
       "51  52.0  159488.621924        133830  13394.581665       14352  6.843959e+05   \n",
       "52  53.0  168372.890312        137439  15181.654473       15722  7.741063e+05   \n",
       "53  54.0  174801.655494        139897  17087.114817       17615  8.610349e+05   \n",
       "54  55.0  178369.255728        141672  19080.872392       18539  9.401760e+05   \n",
       "55  56.0  178851.137527        143457  21120.813420       20080  1.006228e+06   \n",
       "56  57.0  176233.763532        145694  23152.635481       21370  1.054261e+06   \n",
       "57  58.0  170714.421467        148046  25111.019529       23077  1.080458e+06   \n",
       "58  59.0  162671.359975        150383  26922.441189       24530  1.082741e+06   \n",
       "59  60.0  152611.640642        152438  28509.702623       26283  1.061120e+06   \n",
       "60  61.0  141108.345392        154175  29797.944495       27890  1.017659e+06   \n",
       "61  62.0  128739.326866        155193  30721.502918       29451  9.560894e+05   \n",
       "62  63.0  116036.993282        156337  31230.658158       31324  8.811692e+05   \n",
       "63  64.0  103454.235249        157641  31297.152760       33062  7.979818e+05   \n",
       "64  65.0   91347.238734        159119  30917.466373       34863  7.113191e+05   \n",
       "\n",
       "    US_case  \n",
       "0        16  \n",
       "1        17  \n",
       "2        17  \n",
       "3        25  \n",
       "4        32  \n",
       "5        55  \n",
       "6        74  \n",
       "7       107  \n",
       "8       184  \n",
       "9       237  \n",
       "10      403  \n",
       "11      519  \n",
       "12      594  \n",
       "13      782  \n",
       "14     1147  \n",
       "15     1586  \n",
       "16     2219  \n",
       "17     2978  \n",
       "18     3212  \n",
       "19     4679  \n",
       "20     6512  \n",
       "21     9169  \n",
       "22    13663  \n",
       "23    20030  \n",
       "24    26025  \n",
       "25    34944  \n",
       "26    46096  \n",
       "27    56714  \n",
       "28    68841  \n",
       "29    86662  \n",
       "30   105253  \n",
       "31   127417  \n",
       "32   143544  \n",
       "33   165698  \n",
       "34   192079  \n",
       "35   223254  \n",
       "36   255530  \n",
       "37   287931  \n",
       "38   319776  \n",
       "39   349016  \n",
       "40   380798  \n",
       "41   410834  \n",
       "42   441897  \n",
       "43   477507  \n",
       "44   511790  \n",
       "45   540714  \n",
       "46   567022  \n",
       "47   594165  \n",
       "48   622493  \n",
       "49   648390  \n",
       "50   678028  \n",
       "51   711135  \n",
       "52   738464  \n",
       "53   763886  \n",
       "54   793970  \n",
       "55   820045  \n",
       "56   849926  \n",
       "57   881891  \n",
       "58   913856  \n",
       "59   944770  \n",
       "60   970741  \n",
       "61   995391  \n",
       "62  1019964  \n",
       "63  1046816  \n",
       "64  1076518  "
      ]
     },
     "execution_count": 8,
     "metadata": {},
     "output_type": "execute_result"
    }
   ],
   "source": [
    "df_plot"
   ]
  },
  {
   "cell_type": "markdown",
   "id": "0198358b",
   "metadata": {},
   "source": [
    "# Visualization"
   ]
  },
  {
   "cell_type": "code",
   "execution_count": 9,
   "id": "9822d125",
   "metadata": {
    "scrolled": false
   },
   "outputs": [
    {
     "data": {
      "application/vnd.plotly.v1+json": {
       "config": {
        "plotlyServerURL": "https://plot.ly"
       },
       "data": [
        {
         "marker": {
          "size": 8
         },
         "mode": "markers",
         "name": "Germany_case",
         "type": "scatter",
         "x": [
          1,
          2,
          3,
          4,
          5,
          6,
          7,
          8,
          9,
          10,
          11,
          12,
          13,
          14,
          15,
          16,
          17,
          18,
          19,
          20,
          21,
          22,
          23,
          24,
          25,
          26,
          27,
          28,
          29,
          30,
          31,
          32,
          33,
          34,
          35,
          36,
          37,
          38,
          39,
          40,
          41,
          42,
          43,
          44,
          45,
          46,
          47,
          48,
          49,
          50,
          51,
          52,
          53,
          54,
          55,
          56,
          57,
          58,
          59,
          60,
          61,
          62,
          63,
          64,
          65
         ],
         "y": [
          21,
          26,
          53,
          66,
          117,
          150,
          188,
          240,
          349,
          534,
          684,
          847,
          1112,
          1296,
          1567,
          2369,
          3062,
          3795,
          4838,
          6012,
          7156,
          8198,
          10999,
          13957,
          16662,
          18610,
          22672,
          27436,
          31554,
          36508,
          42288,
          48582,
          52547,
          57298,
          61913,
          67366,
          73522,
          79696,
          85778,
          91714,
          95391,
          99225,
          103228,
          108202,
          113525,
          117658,
          120479,
          123016,
          125098,
          127584,
          130450,
          133830,
          137439,
          139897,
          141672,
          143457,
          145694,
          148046,
          150383,
          152438,
          154175,
          155193,
          156337,
          157641,
          159119
         ]
        },
        {
         "marker": {
          "size": 8
         },
         "mode": "markers",
         "name": "India_case",
         "type": "scatter",
         "x": [
          1,
          2,
          3,
          4,
          5,
          6,
          7,
          8,
          9,
          10,
          11,
          12,
          13,
          14,
          15,
          16,
          17,
          18,
          19,
          20,
          21,
          22,
          23,
          24,
          25,
          26,
          27,
          28,
          29,
          30,
          31,
          32,
          33,
          34,
          35,
          36,
          37,
          38,
          39,
          40,
          41,
          42,
          43,
          44,
          45,
          46,
          47,
          48,
          49,
          50,
          51,
          52,
          53,
          54,
          55,
          56,
          57,
          58,
          59,
          60,
          61,
          62,
          63,
          64,
          65
         ],
         "y": [
          3,
          3,
          3,
          3,
          3,
          5,
          5,
          28,
          30,
          31,
          34,
          39,
          43,
          56,
          62,
          73,
          82,
          102,
          113,
          119,
          142,
          156,
          194,
          244,
          330,
          396,
          499,
          536,
          657,
          727,
          887,
          987,
          1024,
          1251,
          1397,
          1998,
          2543,
          2567,
          3082,
          3588,
          4778,
          5311,
          5916,
          6725,
          7598,
          8446,
          9205,
          10453,
          11487,
          12322,
          13430,
          14352,
          15722,
          17615,
          18539,
          20080,
          21370,
          23077,
          24530,
          26283,
          27890,
          29451,
          31324,
          33062,
          34863
         ]
        },
        {
         "marker": {
          "size": 8
         },
         "mode": "markers",
         "name": "US_case",
         "type": "scatter",
         "x": [
          1,
          2,
          3,
          4,
          5,
          6,
          7,
          8,
          9,
          10,
          11,
          12,
          13,
          14,
          15,
          16,
          17,
          18,
          19,
          20,
          21,
          22,
          23,
          24,
          25,
          26,
          27,
          28,
          29,
          30,
          31,
          32,
          33,
          34,
          35,
          36,
          37,
          38,
          39,
          40,
          41,
          42,
          43,
          44,
          45,
          46,
          47,
          48,
          49,
          50,
          51,
          52,
          53,
          54,
          55,
          56,
          57,
          58,
          59,
          60,
          61,
          62,
          63,
          64,
          65
         ],
         "y": [
          16,
          17,
          17,
          25,
          32,
          55,
          74,
          107,
          184,
          237,
          403,
          519,
          594,
          782,
          1147,
          1586,
          2219,
          2978,
          3212,
          4679,
          6512,
          9169,
          13663,
          20030,
          26025,
          34944,
          46096,
          56714,
          68841,
          86662,
          105253,
          127417,
          143544,
          165698,
          192079,
          223254,
          255530,
          287931,
          319776,
          349016,
          380798,
          410834,
          441897,
          477507,
          511790,
          540714,
          567022,
          594165,
          622493,
          648390,
          678028,
          711135,
          738464,
          763886,
          793970,
          820045,
          849926,
          881891,
          913856,
          944770,
          970741,
          995391,
          1019964,
          1046816,
          1076518
         ]
        },
        {
         "mode": "lines",
         "name": "Germany_fit",
         "type": "scatter",
         "x": [
          1,
          2,
          3,
          4,
          5,
          6,
          7,
          8,
          9,
          10,
          11,
          12,
          13,
          14,
          15,
          16,
          17,
          18,
          19,
          20,
          21,
          22,
          23,
          24,
          25,
          26,
          27,
          28,
          29,
          30,
          31,
          32,
          33,
          34,
          35,
          36,
          37,
          38,
          39,
          40,
          41,
          42,
          43,
          44,
          45,
          46,
          47,
          48,
          49,
          50,
          51,
          52,
          53,
          54,
          55,
          56,
          57,
          58,
          59,
          60,
          61,
          62,
          63,
          64,
          65
         ],
         "y": [
          21,
          25.43334612200373,
          30.80254139817411,
          37.305098416713946,
          45.18019767774363,
          54.71746899780361,
          66.26762055376864,
          80.25530068374024,
          97.19466151202113,
          117.70818412603386,
          142.54944615064454,
          172.63064809881524,
          209.05587993025003,
          253.16130662944533,
          306.5636880645242,
          371.21891773138077,
          449.4925948225653,
          544.245017916655,
          658.9334240337395,
          797.7347903778406,
          965.6930654220496,
          1168.8952975710376,
          1414.6817648314286,
          1711.8958171378188,
          2071.1796787589815,
          2505.322866869321,
          3029.6698631187205,
          3662.5931534957826,
          4426.036231008793,
          5346.128198777247,
          6453.866438342295,
          7785.855419906947,
          9385.076774753692,
          11301.646496038922,
          13593.487718365417,
          16326.808943938737,
          19576.226986581343,
          23424.308520837392,
          27960.226602221057,
          33277.14343604531,
          39467.85238442861,
          46618.166084113924,
          54797.56623834779,
          64046.79307681663,
          74362.42487935539,
          85679.14872594527,
          97851.38222387829,
          110637.10193045122,
          123687.93564831052,
          136550.33029421666,
          148682.32911267813,
          159488.62192377803,
          168372.8903121389,
          174801.65549386528,
          178369.25572843707,
          178851.13752709664,
          176233.7635324914,
          170714.4214671389,
          162671.35997478224,
          152611.64064202082,
          141108.34539240855,
          128739.32686615273,
          116036.99328249371,
          103454.23524923617,
          91347.23873444638
         ]
        },
        {
         "mode": "lines",
         "name": "India_fit",
         "type": "scatter",
         "x": [
          1,
          2,
          3,
          4,
          5,
          6,
          7,
          8,
          9,
          10,
          11,
          12,
          13,
          14,
          15,
          16,
          17,
          18,
          19,
          20,
          21,
          22,
          23,
          24,
          25,
          26,
          27,
          28,
          29,
          30,
          31,
          32,
          33,
          34,
          35,
          36,
          37,
          38,
          39,
          40,
          41,
          42,
          43,
          44,
          45,
          46,
          47,
          48,
          49,
          50,
          51,
          52,
          53,
          54,
          55,
          56,
          57,
          58,
          59,
          60,
          61,
          62,
          63,
          64,
          65
         ],
         "y": [
          3,
          3.5554713922373913,
          4.213785343670631,
          4.993979809091144,
          5.918615826818725,
          7.014429105869313,
          8.313101811886172,
          9.852176851916608,
          11.676140604248664,
          13.837705609970607,
          16.399328926233036,
          19.435010086248937,
          23.032419269889534,
          27.29541591625799,
          32.34702829913877,
          38.33297792282491,
          45.42584606303023,
          53.82999757652801,
          63.78739642157426,
          75.58446981231138,
          89.56020395748324,
          106.11568350483303,
          125.7253198181912,
          148.9500497224811,
          176.45282564042327,
          209.0167626902355,
          247.5663461990756,
          293.1921509716439,
          347.1795575475327,
          411.0419755275373,
          486.55909190106877,
          575.8206345999222,
          681.2760658074432,
          805.7904686776652,
          952.7066303297786,
          1125.9129113015233,
          1329.9158521781146,
          1569.9155697574104,
          1851.880648202175,
          2182.6174473096285,
          2569.8262902992865,
          3022.1337795512623,
          3549.0864480625737,
          4161.085974679027,
          4869.240503192166,
          5685.100508523975,
          6620.242036565191,
          7685.656403069139,
          8890.905864235581,
          10243.01259730995,
          11745.067634091078,
          13394.58166464987,
          15181.65447313674,
          17087.114816955276,
          19080.87239229958,
          21120.813420424907,
          23152.63548126533,
          25111.019529269313,
          26922.44118941228,
          28509.70262273394,
          29797.944495068743,
          30721.50291813361,
          31230.65815751935,
          31297.152760406036,
          30917.466373062914
         ]
        },
        {
         "mode": "lines",
         "name": "US_fit",
         "type": "scatter",
         "x": [
          1,
          2,
          3,
          4,
          5,
          6,
          7,
          8,
          9,
          10,
          11,
          12,
          13,
          14,
          15,
          16,
          17,
          18,
          19,
          20,
          21,
          22,
          23,
          24,
          25,
          26,
          27,
          28,
          29,
          30,
          31,
          32,
          33,
          34,
          35,
          36,
          37,
          38,
          39,
          40,
          41,
          42,
          43,
          44,
          45,
          46,
          47,
          48,
          49,
          50,
          51,
          52,
          53,
          54,
          55,
          56,
          57,
          58,
          59,
          60,
          61,
          62,
          63,
          64,
          65
         ],
         "y": [
          16,
          19.8953360676887,
          24.739013980930157,
          30.761906175275215,
          38.25108872753396,
          47.563519543853424,
          59.143047658712256,
          73.54155951799945,
          91.44527068945862,
          113.7074100427111,
          141.388852856112,
          175.80862916781743,
          218.60670598111184,
          271.82201586234635,
          337.9894242181836,
          420.260215852692,
          522.5517722783468,
          649.7334800418961,
          807.8575626340564,
          1004.4455993238296,
          1248.8440105305867,
          1552.6648527675577,
          1930.3320519176475,
          2399.757684901116,
          2983.1784021145145,
          3708.1885356874154,
          4609.013966600806,
          5728.079622524723,
          7117.93309311777,
          8843.597491805174,
          10985.43685740206,
          13642.627019454016,
          16937.330272688047,
          21019.67094606374,
          26073.59438767091,
          32323.655389425923,
          40042.710007375455,
          49560.35668052985,
          61271.76321106628,
          75646.1853560568,
          93233.99024960687,
          114670.29005842065,
          140672.3329052216,
          172026.58107515617,
          209560.0185670088,
          254088.91599478706,
          306337.56786389294,
          366820.32411497564,
          435683.8782311476,
          512514.85730336467,
          596131.3736555168,
          684395.8666224212,
          774106.2857120213,
          861034.8557424202,
          940176.0261432538,
          1006227.539889524,
          1054260.745337505,
          1080458.0121926293,
          1082741.202117815,
          1061119.545603275,
          1017659.0433570307,
          956089.3789152589,
          881169.1946211696,
          797981.8126014457,
          711319.0533246935
         ]
        }
       ],
       "layout": {
        "height": 800,
        "template": {
         "data": {
          "bar": [
           {
            "error_x": {
             "color": "#2a3f5f"
            },
            "error_y": {
             "color": "#2a3f5f"
            },
            "marker": {
             "line": {
              "color": "#E5ECF6",
              "width": 0.5
             },
             "pattern": {
              "fillmode": "overlay",
              "size": 10,
              "solidity": 0.2
             }
            },
            "type": "bar"
           }
          ],
          "barpolar": [
           {
            "marker": {
             "line": {
              "color": "#E5ECF6",
              "width": 0.5
             },
             "pattern": {
              "fillmode": "overlay",
              "size": 10,
              "solidity": 0.2
             }
            },
            "type": "barpolar"
           }
          ],
          "carpet": [
           {
            "aaxis": {
             "endlinecolor": "#2a3f5f",
             "gridcolor": "white",
             "linecolor": "white",
             "minorgridcolor": "white",
             "startlinecolor": "#2a3f5f"
            },
            "baxis": {
             "endlinecolor": "#2a3f5f",
             "gridcolor": "white",
             "linecolor": "white",
             "minorgridcolor": "white",
             "startlinecolor": "#2a3f5f"
            },
            "type": "carpet"
           }
          ],
          "choropleth": [
           {
            "colorbar": {
             "outlinewidth": 0,
             "ticks": ""
            },
            "type": "choropleth"
           }
          ],
          "contour": [
           {
            "colorbar": {
             "outlinewidth": 0,
             "ticks": ""
            },
            "colorscale": [
             [
              0,
              "#0d0887"
             ],
             [
              0.1111111111111111,
              "#46039f"
             ],
             [
              0.2222222222222222,
              "#7201a8"
             ],
             [
              0.3333333333333333,
              "#9c179e"
             ],
             [
              0.4444444444444444,
              "#bd3786"
             ],
             [
              0.5555555555555556,
              "#d8576b"
             ],
             [
              0.6666666666666666,
              "#ed7953"
             ],
             [
              0.7777777777777778,
              "#fb9f3a"
             ],
             [
              0.8888888888888888,
              "#fdca26"
             ],
             [
              1,
              "#f0f921"
             ]
            ],
            "type": "contour"
           }
          ],
          "contourcarpet": [
           {
            "colorbar": {
             "outlinewidth": 0,
             "ticks": ""
            },
            "type": "contourcarpet"
           }
          ],
          "heatmap": [
           {
            "colorbar": {
             "outlinewidth": 0,
             "ticks": ""
            },
            "colorscale": [
             [
              0,
              "#0d0887"
             ],
             [
              0.1111111111111111,
              "#46039f"
             ],
             [
              0.2222222222222222,
              "#7201a8"
             ],
             [
              0.3333333333333333,
              "#9c179e"
             ],
             [
              0.4444444444444444,
              "#bd3786"
             ],
             [
              0.5555555555555556,
              "#d8576b"
             ],
             [
              0.6666666666666666,
              "#ed7953"
             ],
             [
              0.7777777777777778,
              "#fb9f3a"
             ],
             [
              0.8888888888888888,
              "#fdca26"
             ],
             [
              1,
              "#f0f921"
             ]
            ],
            "type": "heatmap"
           }
          ],
          "heatmapgl": [
           {
            "colorbar": {
             "outlinewidth": 0,
             "ticks": ""
            },
            "colorscale": [
             [
              0,
              "#0d0887"
             ],
             [
              0.1111111111111111,
              "#46039f"
             ],
             [
              0.2222222222222222,
              "#7201a8"
             ],
             [
              0.3333333333333333,
              "#9c179e"
             ],
             [
              0.4444444444444444,
              "#bd3786"
             ],
             [
              0.5555555555555556,
              "#d8576b"
             ],
             [
              0.6666666666666666,
              "#ed7953"
             ],
             [
              0.7777777777777778,
              "#fb9f3a"
             ],
             [
              0.8888888888888888,
              "#fdca26"
             ],
             [
              1,
              "#f0f921"
             ]
            ],
            "type": "heatmapgl"
           }
          ],
          "histogram": [
           {
            "marker": {
             "pattern": {
              "fillmode": "overlay",
              "size": 10,
              "solidity": 0.2
             }
            },
            "type": "histogram"
           }
          ],
          "histogram2d": [
           {
            "colorbar": {
             "outlinewidth": 0,
             "ticks": ""
            },
            "colorscale": [
             [
              0,
              "#0d0887"
             ],
             [
              0.1111111111111111,
              "#46039f"
             ],
             [
              0.2222222222222222,
              "#7201a8"
             ],
             [
              0.3333333333333333,
              "#9c179e"
             ],
             [
              0.4444444444444444,
              "#bd3786"
             ],
             [
              0.5555555555555556,
              "#d8576b"
             ],
             [
              0.6666666666666666,
              "#ed7953"
             ],
             [
              0.7777777777777778,
              "#fb9f3a"
             ],
             [
              0.8888888888888888,
              "#fdca26"
             ],
             [
              1,
              "#f0f921"
             ]
            ],
            "type": "histogram2d"
           }
          ],
          "histogram2dcontour": [
           {
            "colorbar": {
             "outlinewidth": 0,
             "ticks": ""
            },
            "colorscale": [
             [
              0,
              "#0d0887"
             ],
             [
              0.1111111111111111,
              "#46039f"
             ],
             [
              0.2222222222222222,
              "#7201a8"
             ],
             [
              0.3333333333333333,
              "#9c179e"
             ],
             [
              0.4444444444444444,
              "#bd3786"
             ],
             [
              0.5555555555555556,
              "#d8576b"
             ],
             [
              0.6666666666666666,
              "#ed7953"
             ],
             [
              0.7777777777777778,
              "#fb9f3a"
             ],
             [
              0.8888888888888888,
              "#fdca26"
             ],
             [
              1,
              "#f0f921"
             ]
            ],
            "type": "histogram2dcontour"
           }
          ],
          "mesh3d": [
           {
            "colorbar": {
             "outlinewidth": 0,
             "ticks": ""
            },
            "type": "mesh3d"
           }
          ],
          "parcoords": [
           {
            "line": {
             "colorbar": {
              "outlinewidth": 0,
              "ticks": ""
             }
            },
            "type": "parcoords"
           }
          ],
          "pie": [
           {
            "automargin": true,
            "type": "pie"
           }
          ],
          "scatter": [
           {
            "fillpattern": {
             "fillmode": "overlay",
             "size": 10,
             "solidity": 0.2
            },
            "type": "scatter"
           }
          ],
          "scatter3d": [
           {
            "line": {
             "colorbar": {
              "outlinewidth": 0,
              "ticks": ""
             }
            },
            "marker": {
             "colorbar": {
              "outlinewidth": 0,
              "ticks": ""
             }
            },
            "type": "scatter3d"
           }
          ],
          "scattercarpet": [
           {
            "marker": {
             "colorbar": {
              "outlinewidth": 0,
              "ticks": ""
             }
            },
            "type": "scattercarpet"
           }
          ],
          "scattergeo": [
           {
            "marker": {
             "colorbar": {
              "outlinewidth": 0,
              "ticks": ""
             }
            },
            "type": "scattergeo"
           }
          ],
          "scattergl": [
           {
            "marker": {
             "colorbar": {
              "outlinewidth": 0,
              "ticks": ""
             }
            },
            "type": "scattergl"
           }
          ],
          "scattermapbox": [
           {
            "marker": {
             "colorbar": {
              "outlinewidth": 0,
              "ticks": ""
             }
            },
            "type": "scattermapbox"
           }
          ],
          "scatterpolar": [
           {
            "marker": {
             "colorbar": {
              "outlinewidth": 0,
              "ticks": ""
             }
            },
            "type": "scatterpolar"
           }
          ],
          "scatterpolargl": [
           {
            "marker": {
             "colorbar": {
              "outlinewidth": 0,
              "ticks": ""
             }
            },
            "type": "scatterpolargl"
           }
          ],
          "scatterternary": [
           {
            "marker": {
             "colorbar": {
              "outlinewidth": 0,
              "ticks": ""
             }
            },
            "type": "scatterternary"
           }
          ],
          "surface": [
           {
            "colorbar": {
             "outlinewidth": 0,
             "ticks": ""
            },
            "colorscale": [
             [
              0,
              "#0d0887"
             ],
             [
              0.1111111111111111,
              "#46039f"
             ],
             [
              0.2222222222222222,
              "#7201a8"
             ],
             [
              0.3333333333333333,
              "#9c179e"
             ],
             [
              0.4444444444444444,
              "#bd3786"
             ],
             [
              0.5555555555555556,
              "#d8576b"
             ],
             [
              0.6666666666666666,
              "#ed7953"
             ],
             [
              0.7777777777777778,
              "#fb9f3a"
             ],
             [
              0.8888888888888888,
              "#fdca26"
             ],
             [
              1,
              "#f0f921"
             ]
            ],
            "type": "surface"
           }
          ],
          "table": [
           {
            "cells": {
             "fill": {
              "color": "#EBF0F8"
             },
             "line": {
              "color": "white"
             }
            },
            "header": {
             "fill": {
              "color": "#C8D4E3"
             },
             "line": {
              "color": "white"
             }
            },
            "type": "table"
           }
          ]
         },
         "layout": {
          "annotationdefaults": {
           "arrowcolor": "#2a3f5f",
           "arrowhead": 0,
           "arrowwidth": 1
          },
          "autotypenumbers": "strict",
          "coloraxis": {
           "colorbar": {
            "outlinewidth": 0,
            "ticks": ""
           }
          },
          "colorscale": {
           "diverging": [
            [
             0,
             "#8e0152"
            ],
            [
             0.1,
             "#c51b7d"
            ],
            [
             0.2,
             "#de77ae"
            ],
            [
             0.3,
             "#f1b6da"
            ],
            [
             0.4,
             "#fde0ef"
            ],
            [
             0.5,
             "#f7f7f7"
            ],
            [
             0.6,
             "#e6f5d0"
            ],
            [
             0.7,
             "#b8e186"
            ],
            [
             0.8,
             "#7fbc41"
            ],
            [
             0.9,
             "#4d9221"
            ],
            [
             1,
             "#276419"
            ]
           ],
           "sequential": [
            [
             0,
             "#0d0887"
            ],
            [
             0.1111111111111111,
             "#46039f"
            ],
            [
             0.2222222222222222,
             "#7201a8"
            ],
            [
             0.3333333333333333,
             "#9c179e"
            ],
            [
             0.4444444444444444,
             "#bd3786"
            ],
            [
             0.5555555555555556,
             "#d8576b"
            ],
            [
             0.6666666666666666,
             "#ed7953"
            ],
            [
             0.7777777777777778,
             "#fb9f3a"
            ],
            [
             0.8888888888888888,
             "#fdca26"
            ],
            [
             1,
             "#f0f921"
            ]
           ],
           "sequentialminus": [
            [
             0,
             "#0d0887"
            ],
            [
             0.1111111111111111,
             "#46039f"
            ],
            [
             0.2222222222222222,
             "#7201a8"
            ],
            [
             0.3333333333333333,
             "#9c179e"
            ],
            [
             0.4444444444444444,
             "#bd3786"
            ],
            [
             0.5555555555555556,
             "#d8576b"
            ],
            [
             0.6666666666666666,
             "#ed7953"
            ],
            [
             0.7777777777777778,
             "#fb9f3a"
            ],
            [
             0.8888888888888888,
             "#fdca26"
            ],
            [
             1,
             "#f0f921"
            ]
           ]
          },
          "colorway": [
           "#636efa",
           "#EF553B",
           "#00cc96",
           "#ab63fa",
           "#FFA15A",
           "#19d3f3",
           "#FF6692",
           "#B6E880",
           "#FF97FF",
           "#FECB52"
          ],
          "font": {
           "color": "#2a3f5f"
          },
          "geo": {
           "bgcolor": "white",
           "lakecolor": "white",
           "landcolor": "#E5ECF6",
           "showlakes": true,
           "showland": true,
           "subunitcolor": "white"
          },
          "hoverlabel": {
           "align": "left"
          },
          "hovermode": "closest",
          "mapbox": {
           "style": "light"
          },
          "paper_bgcolor": "white",
          "plot_bgcolor": "#E5ECF6",
          "polar": {
           "angularaxis": {
            "gridcolor": "white",
            "linecolor": "white",
            "ticks": ""
           },
           "bgcolor": "#E5ECF6",
           "radialaxis": {
            "gridcolor": "white",
            "linecolor": "white",
            "ticks": ""
           }
          },
          "scene": {
           "xaxis": {
            "backgroundcolor": "#E5ECF6",
            "gridcolor": "white",
            "gridwidth": 2,
            "linecolor": "white",
            "showbackground": true,
            "ticks": "",
            "zerolinecolor": "white"
           },
           "yaxis": {
            "backgroundcolor": "#E5ECF6",
            "gridcolor": "white",
            "gridwidth": 2,
            "linecolor": "white",
            "showbackground": true,
            "ticks": "",
            "zerolinecolor": "white"
           },
           "zaxis": {
            "backgroundcolor": "#E5ECF6",
            "gridcolor": "white",
            "gridwidth": 2,
            "linecolor": "white",
            "showbackground": true,
            "ticks": "",
            "zerolinecolor": "white"
           }
          },
          "shapedefaults": {
           "line": {
            "color": "#2a3f5f"
           }
          },
          "ternary": {
           "aaxis": {
            "gridcolor": "white",
            "linecolor": "white",
            "ticks": ""
           },
           "baxis": {
            "gridcolor": "white",
            "linecolor": "white",
            "ticks": ""
           },
           "bgcolor": "#E5ECF6",
           "caxis": {
            "gridcolor": "white",
            "linecolor": "white",
            "ticks": ""
           }
          },
          "title": {
           "x": 0.05
          },
          "xaxis": {
           "automargin": true,
           "gridcolor": "white",
           "linecolor": "white",
           "ticks": "",
           "title": {
            "standoff": 15
           },
           "zerolinecolor": "white",
           "zerolinewidth": 2
          },
          "yaxis": {
           "automargin": true,
           "gridcolor": "white",
           "linecolor": "white",
           "ticks": "",
           "title": {
            "standoff": 15
           },
           "zerolinecolor": "white",
           "zerolinewidth": 2
          }
         }
        },
        "width": 1000,
        "xaxis": {
         "title": {
          "text": "Days"
         }
        },
        "yaxis": {
         "title": {
          "text": "Covid infections"
         },
         "type": "log"
        }
       }
      }
     },
     "metadata": {},
     "output_type": "display_data"
    }
   ],
   "source": [
    "fig=go.Figure()\n",
    "for each in country:\n",
    "    fig.add_trace(go.Scatter(x=df_plot.day,\n",
    "                             y=df_plot[each+'_case'],\n",
    "                             mode='markers',\n",
    "                             marker_size=8,\n",
    "                             name=each+'_case'\n",
    "                         ))\n",
    "for each in country:\n",
    "    fig.add_trace(go.Scatter(x=df_plot.day,\n",
    "                             y=df_plot[each+'_fit'],\n",
    "                             mode='lines',\n",
    "                             name=each+'_fit'\n",
    "                         ))\n",
    "\n",
    "fig.update_layout(\n",
    "        width=1000,\n",
    "        height=800,\n",
    "        xaxis_title=\"Days\",\n",
    "        yaxis_title=\"Covid infections\",\n",
    ")\n",
    "fig.update_yaxes(type=\"log\")\n",
    "fig.show()"
   ]
  },
  {
   "cell_type": "markdown",
   "id": "0f26b961",
   "metadata": {},
   "source": [
    "# Dash"
   ]
  },
  {
   "cell_type": "code",
   "execution_count": 114,
   "id": "2bebbed1",
   "metadata": {},
   "outputs": [
    {
     "name": "stdout",
     "output_type": "stream",
     "text": [
      "C:\\Users\\Mohit\\EDS_COVID_22\\notebooks\n",
      "Dash is running on http://127.0.0.1:8050/\n",
      "\n",
      "Dash is running on http://127.0.0.1:8050/\n",
      "\n",
      "Dash is running on http://127.0.0.1:8050/\n",
      "\n",
      "Dash is running on http://127.0.0.1:8050/\n",
      "\n",
      "Dash is running on http://127.0.0.1:8050/\n",
      "\n",
      "Dash is running on http://127.0.0.1:8050/\n",
      "\n",
      "Dash is running on http://127.0.0.1:8050/\n",
      "\n",
      "Dash is running on http://127.0.0.1:8050/\n",
      "\n",
      " * Serving Flask app '__main__' (lazy loading)\n",
      " * Environment: production\n",
      "\u001b[31m   WARNING: This is a development server. Do not use it in a production deployment.\u001b[0m\n",
      "\u001b[2m   Use a production WSGI server instead.\u001b[0m\n",
      " * Debug mode: on\n"
     ]
    }
   ],
   "source": [
    "import dash\n",
    "dash.__version__\n",
    "import dash_core_components as dcc\n",
    "import dash_html_components as html\n",
    "from dash.dependencies import Input, Output,State\n",
    "\n",
    "import os\n",
    "print(os.getcwd())\n",
    "\n",
    "fig = go.Figure()\n",
    "\n",
    "app = dash.Dash()\n",
    "app.layout = html.Div([\n",
    "\n",
    "    dcc.Markdown('''\n",
    "    #  Applied Data Science on COVID-19 data\n",
    "\n",
    "    Goal of the project is to demonstrate the SIR prediction model for three countries and the reproduction rate,\n",
    "    infection rate and recovery rate for the first few days of the pandemic\n",
    "\n",
    "    '''),\n",
    "\n",
    "    dcc.Markdown('''\n",
    "    ## Multi-Select Country for visualization\n",
    "    '''),\n",
    "    \n",
    "    dcc.Dropdown(\n",
    "        id='country_drop_down',\n",
    "        options=[ {'label': each,'value':each} for each in country],\n",
    "        value=['US', 'Germany','India'], # which are pre-selected\n",
    "        multi=True\n",
    "    ),\n",
    "\n",
    " \n",
    "\n",
    "    dcc.Graph(figure=fig, id='main_window_slope')\n",
    "])\n",
    "\n",
    "\n",
    "\n",
    "@app.callback(\n",
    "    Output('main_window_slope', 'figure'),\n",
    "    [Input('country_drop_down', 'value')])\n",
    "\n",
    "\n",
    "def update_figure(country):\n",
    "\n",
    "\n",
    "    traces = []\n",
    "    for each in country:\n",
    "        traces.append(dict(x=df_plot.day,\n",
    "                                y=df_plot[each+'_case'],\n",
    "                                mode='markers',\n",
    "                                marker_size=8,\n",
    "                                name=each+'_case'\n",
    "                       )\n",
    "                )\n",
    "    \n",
    "    for each in country:\n",
    "        traces.append(dict(x=df_plot.day,\n",
    "                                y=df_plot[each+'_fit'],\n",
    "                                mode='lines',\n",
    "                                name=each+'_fit'\n",
    "                       )\n",
    "                )\n",
    "\n",
    "    return {\n",
    "            'data': traces,\n",
    "            'layout': dict (\n",
    "                width=1280,\n",
    "                height=720,\n",
    "\n",
    "                xaxis={\n",
    "                        'tickangle':-45,\n",
    "                        'nticks':20,\n",
    "                        'tickfont':dict(size=14,color=\"#7f7f7f\"),\n",
    "                      },\n",
    "\n",
    "                yaxis={'type':\"log\",\n",
    "                       'range':'[1.1,5.5]'\n",
    "                      }\n",
    "        )\n",
    "    }\n",
    "\n",
    "if __name__ == '__main__':\n",
    "\n",
    "    app.run_server(debug=True, use_reloader=False,port=8051)"
   ]
  },
  {
   "cell_type": "code",
   "execution_count": null,
   "id": "0c347cc0",
   "metadata": {},
   "outputs": [],
   "source": []
  },
  {
   "cell_type": "code",
   "execution_count": null,
   "id": "df5a3c05",
   "metadata": {},
   "outputs": [],
   "source": []
  },
  {
   "cell_type": "code",
   "execution_count": null,
   "id": "7090b0b0",
   "metadata": {},
   "outputs": [],
   "source": []
  },
  {
   "cell_type": "code",
   "execution_count": null,
   "id": "17d40490",
   "metadata": {},
   "outputs": [],
   "source": []
  }
 ],
 "metadata": {
  "kernelspec": {
   "display_name": "Python 3.10.5 ('dsvenv': venv)",
   "language": "python",
   "name": "python3"
  },
  "language_info": {
   "codemirror_mode": {
    "name": "ipython",
    "version": 3
   },
   "file_extension": ".py",
   "mimetype": "text/x-python",
   "name": "python",
   "nbconvert_exporter": "python",
   "pygments_lexer": "ipython3",
   "version": "3.10.5"
  },
  "vscode": {
   "interpreter": {
    "hash": "c700f411ef1946b5b951dcc0c11c198e567963616c8ea1722710f03dfdbd4b40"
   }
  }
 },
 "nbformat": 4,
 "nbformat_minor": 5
}
