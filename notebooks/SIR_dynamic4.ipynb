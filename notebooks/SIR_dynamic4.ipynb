{
 "cells": [
  {
   "cell_type": "markdown",
   "id": "0022fb4f",
   "metadata": {},
   "source": [
    "# SIR Dynamic\n",
    "# Data-Import"
   ]
  },
  {
   "cell_type": "code",
   "execution_count": 1,
   "id": "3a01c257",
   "metadata": {},
   "outputs": [],
   "source": [
    "import pandas as pd\n",
    "import numpy as np\n",
    "from datetime import datetime\n",
    "pd.set_option('display.max_rows',500)\n",
    "\n",
    "%matplotlib inline\n",
    "import matplotlib as mpl\n",
    "import matplotlib.pyplot as plt\n",
    "import seaborn as sns\n",
    "\n",
    "from scipy import optimize\n",
    "from scipy import integrate\n",
    "import plotly\n",
    "\n",
    "import plotly.express as px\n",
    "import plotly.graph_objects as go\n",
    "\n",
    "sns.set(style=\"darkgrid\")\n",
    "\n",
    "mpl.rcParams['figure.figsize'] = (16, 9)\n",
    "pd.set_option('display.max_rows', 500)"
   ]
  },
  {
   "cell_type": "code",
   "execution_count": 2,
   "id": "3bb9a1be",
   "metadata": {},
   "outputs": [],
   "source": [
    "data_path='../data/raw/COVID-19/csse_covid_19_data/csse_covid_19_time_series/time_series_covid19_confirmed_global.csv'\n",
    "pd_raw=pd.read_csv(data_path)\n",
    "\n",
    "time_idx=pd_raw.columns[4:]\n",
    "df_new=pd.DataFrame({'date':time_idx})\n",
    "\n",
    "country=['Germany','India','US']\n",
    "\n",
    "for each in country:\n",
    "    df_new[each]=np.array(pd_raw[pd_raw['Country/Region']==each].iloc[:,4:].sum(axis=0))\n",
    "\n",
    "df_new['date']=df_new.date.astype('datetime64[ns]')\n",
    "\n",
    "df_new.to_csv('../data/processed/small_flat_table.csv',sep=';',index=False)"
   ]
  },
  {
   "cell_type": "code",
   "execution_count": null,
   "id": "210f0e6c",
   "metadata": {},
   "outputs": [],
   "source": [
    "df_new"
   ]
  },
  {
   "cell_type": "markdown",
   "id": "c063aa91",
   "metadata": {},
   "source": [
    "# General Functions"
   ]
  },
  {
   "cell_type": "code",
   "execution_count": 4,
   "id": "ea3ce8cb",
   "metadata": {},
   "outputs": [],
   "source": [
    "def SIR_model(SIR,beta,gamma):\n",
    "    ''' Simple SIR model\n",
    "        S: susceptible population\n",
    "        I: infected people\n",
    "        R: recovered people\n",
    "        beta: \n",
    "        \n",
    "        overall condition is that the sum of changes (differnces) sum up to 0\n",
    "        dS+dI+dR=0\n",
    "        S+I+R= N (constant size of population)\n",
    "    \n",
    "    '''\n",
    "    \n",
    "    S,I,R=SIR\n",
    "    dS_dt=-beta*S*I/N0          #S*I is the \n",
    "    dI_dt=beta*S*I/N0-gamma*I\n",
    "    dR_dt=gamma*I\n",
    "    return([dS_dt,dI_dt,dR_dt])"
   ]
  },
  {
   "cell_type": "code",
   "execution_count": 5,
   "id": "8ed6f217",
   "metadata": {},
   "outputs": [],
   "source": [
    "def SIR_model_t(SIR,t,beta,gamma):\n",
    "    ''' Simple SIR model\n",
    "        S: susceptible population\n",
    "        t: time step, mandatory for integral.odeint\n",
    "        I: infected people\n",
    "        R: recovered people\n",
    "        beta: \n",
    "        \n",
    "        overall condition is that the sum of changes (differnces) sum up to 0\n",
    "        dS+dI+dR=0\n",
    "        S+I+R= N (constant size of population)\n",
    "    \n",
    "    '''\n",
    "    \n",
    "    S,I,R=SIR\n",
    "    dS_dt=-beta*S*I/N0          #S*I is the \n",
    "    dI_dt=beta*S*I/N0-gamma*I\n",
    "    dR_dt=gamma*I\n",
    "    return dS_dt,dI_dt,dR_dt"
   ]
  },
  {
   "cell_type": "code",
   "execution_count": 6,
   "id": "d33d14cd",
   "metadata": {},
   "outputs": [],
   "source": [
    "def fit_odeint(x, beta, gamma):\n",
    "    '''\n",
    "    helper function for the integration\n",
    "    '''\n",
    "    return integrate.odeint(SIR_model_t, (S0, I0, R0), t, args=(beta, gamma))[:,1] # we only would like to get dI"
   ]
  },
  {
   "cell_type": "markdown",
   "id": "d09baa7e",
   "metadata": {},
   "source": [
    "# Loop for all country"
   ]
  },
  {
   "cell_type": "code",
   "execution_count": null,
   "id": "67860036",
   "metadata": {},
   "outputs": [],
   "source": [
    "ydata = np.array(df_new['Germany'][35:100])\n",
    "t=np.arange(len(ydata))\n",
    "x=np.linspace(1,len(ydata),len(ydata))\n",
    "df_plot=pd.DataFrame({'day':np.array(x)})\n",
    "\n",
    "for each in country: \n",
    "    \n",
    "    if each=='Germany':\n",
    "        N0=80000000 #max susceptible population\n",
    "    elif each=='India':\n",
    "        N0=1380000000\n",
    "    else:\n",
    "        N0=329000000\n",
    "        \n",
    "    beta=0.4   # infection spread dynamics\n",
    "    gamma=0.1\n",
    "    \n",
    "    I0=df_new[each][35]\n",
    "    S0=N0-I0\n",
    "    R0=0\n",
    "    \n",
    "    ydata = np.array(df_new[each][35:100])\n",
    "    t=np.arange(len(ydata))\n",
    "    \n",
    "    # example curve of our differential equationa\n",
    "    popt=[beta,gamma]\n",
    "    fit_odeint(t, *popt);\n",
    "    \n",
    "    popt, pcov = optimize.curve_fit(fit_odeint, t, ydata)\n",
    "    perr = np.sqrt(np.diag(pcov))\n",
    "    \n",
    "    print('standard deviation errors : ',str(perr), ' start infect:',ydata[0])\n",
    "    print(\"Optimal parameters: beta =\", popt[0], \" and gamma = \", popt[1])\n",
    "    \n",
    "    # get the final fitted curve\n",
    "    fitted=fit_odeint(t, *popt)\n",
    "    len(fitted)\n",
    "    x=np.linspace(1,len(fitted),len(fitted))\n",
    "    #df_plot=pd.DataFrame({'day':np.array(x)})\n",
    "    new={each+'_fit':np.array(fitted),\n",
    "         each+'_case':np.array(df_new[each][35:100])\n",
    "        }\n",
    "    pd_new=pd.DataFrame(new)\n",
    "    df_plot=pd.concat([df_plot,pd_new],axis=1)\n",
    "    print(each+\":Optimal parameters: beta =\", popt[0], \" and gamma = \", popt[1])\n",
    "    print(each+\"Basic Reproduction Number R0 \" , popt[0]/ popt[1])"
   ]
  },
  {
   "cell_type": "code",
   "execution_count": null,
   "id": "0fd04bb5",
   "metadata": {},
   "outputs": [],
   "source": [
    "df_plot"
   ]
  },
  {
   "cell_type": "markdown",
   "id": "0198358b",
   "metadata": {},
   "source": [
    "# Visualization"
   ]
  },
  {
   "cell_type": "code",
   "execution_count": null,
   "id": "9822d125",
   "metadata": {
    "scrolled": false
   },
   "outputs": [],
   "source": [
    "fig=go.Figure()\n",
    "for each in country:\n",
    "    fig.add_trace(go.Scatter(x=df_plot.day,\n",
    "                             y=df_plot[each+'_case'],\n",
    "                             mode='markers',\n",
    "                             marker_size=8,\n",
    "                             name=each+'_case'\n",
    "                         ))\n",
    "for each in country:\n",
    "    fig.add_trace(go.Scatter(x=df_plot.day,\n",
    "                             y=df_plot[each+'_fit'],\n",
    "                             mode='lines',\n",
    "                             name=each+'_fit'\n",
    "                         ))\n",
    "\n",
    "fig.update_layout(\n",
    "        width=1000,\n",
    "        height=800,\n",
    "        xaxis_title=\"Days\",\n",
    "        yaxis_title=\"Covid infections\",\n",
    ")\n",
    "fig.update_yaxes(type=\"log\")\n",
    "fig.show()"
   ]
  },
  {
   "cell_type": "markdown",
   "id": "0f26b961",
   "metadata": {},
   "source": [
    "# Dash"
   ]
  },
  {
   "cell_type": "code",
   "execution_count": 10,
   "id": "2bebbed1",
   "metadata": {},
   "outputs": [],
   "source": [
    "import dash\n",
    "dash.__version__\n",
    "import dash_core_components as dcc\n",
    "import dash_html_components as html\n",
    "from dash.dependencies import Input, Output,State\n",
    "\n",
    "import os\n",
    "print(os.getcwd())\n",
    "\n",
    "fig = go.Figure()\n",
    "\n",
    "app = dash.Dash()\n",
    "app.layout = html.Div([\n",
    "\n",
    "    dcc.Markdown('''\n",
    "    #  Applied Data Science on COVID-19 data\n",
    "\n",
    "    Goal of the project is to demonstrate the SIR prediction model for three countries and the reproduction rate,\n",
    "    infection rate and recovery rate for the first few days of the pandemic\n",
    "\n",
    "    '''),\n",
    "\n",
    "    dcc.Markdown('''\n",
    "    ## Multi-Select Country for visualization\n",
    "    '''),\n",
    "    \n",
    "    dcc.Dropdown(\n",
    "        id='country_drop_down',\n",
    "        options=[ {'label': each,'value':each} for each in country],\n",
    "        value=['US', 'Germany','India'], # which are pre-selected\n",
    "        multi=True\n",
    "    ),\n",
    "\n",
    " \n",
    "\n",
    "    dcc.Graph(figure=fig, id='main_window_slope')\n",
    "])\n",
    "\n",
    "\n",
    "\n",
    "@app.callback(\n",
    "    Output('main_window_slope', 'figure'),\n",
    "    [Input('country_drop_down', 'value')])\n",
    "\n",
    "\n",
    "def update_figure(country):\n",
    "\n",
    "\n",
    "    traces = []\n",
    "    for each in country:\n",
    "        traces.append(dict(x=df_plot.day,\n",
    "                                y=df_plot[each+'_case'],\n",
    "                                mode='markers',\n",
    "                                marker_size=8,\n",
    "                                name=each+'_case'\n",
    "                       )\n",
    "                )\n",
    "    \n",
    "    for each in country:\n",
    "        traces.append(dict(x=df_plot.day,\n",
    "                                y=df_plot[each+'_fit'],\n",
    "                                mode='lines',\n",
    "                                name=each+'_fit'\n",
    "                       )\n",
    "                )\n",
    "\n",
    "    return {\n",
    "            'data': traces,\n",
    "            'layout': dict (\n",
    "                width=1280,\n",
    "                height=720,\n",
    "\n",
    "                xaxis={\n",
    "                        'tickangle':-45,\n",
    "                        'nticks':20,\n",
    "                        'tickfont':dict(size=14,color=\"#7f7f7f\"),\n",
    "                      },\n",
    "\n",
    "                yaxis={'type':\"log\",\n",
    "                       'range':'[1.1,5.5]'\n",
    "                      }\n",
    "        )\n",
    "    }\n",
    "\n",
    "if __name__ == '__main__':\n",
    "\n",
    "    app.run_server(debug=True, use_reloader=False,port=8051)"
   ]
  },
  {
   "cell_type": "code",
   "execution_count": null,
   "id": "0c347cc0",
   "metadata": {},
   "outputs": [],
   "source": []
  },
  {
   "cell_type": "code",
   "execution_count": null,
   "id": "df5a3c05",
   "metadata": {},
   "outputs": [],
   "source": []
  },
  {
   "cell_type": "code",
   "execution_count": null,
   "id": "7090b0b0",
   "metadata": {},
   "outputs": [],
   "source": []
  },
  {
   "cell_type": "code",
   "execution_count": null,
   "id": "17d40490",
   "metadata": {},
   "outputs": [],
   "source": []
  }
 ],
 "metadata": {
  "kernelspec": {
   "display_name": "Python 3.10.5 ('dsvenv': venv)",
   "language": "python",
   "name": "python3"
  },
  "language_info": {
   "codemirror_mode": {
    "name": "ipython",
    "version": 3
   },
   "file_extension": ".py",
   "mimetype": "text/x-python",
   "name": "python",
   "nbconvert_exporter": "python",
   "pygments_lexer": "ipython3",
   "version": "3.10.5"
  },
  "vscode": {
   "interpreter": {
    "hash": "c700f411ef1946b5b951dcc0c11c198e567963616c8ea1722710f03dfdbd4b40"
   }
  }
 },
 "nbformat": 4,
 "nbformat_minor": 5
}
